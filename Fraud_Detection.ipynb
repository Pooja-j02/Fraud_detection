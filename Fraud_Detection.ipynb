{
  "nbformat": 4,
  "nbformat_minor": 0,
  "metadata": {
    "colab": {
      "provenance": []
    },
    "kernelspec": {
      "name": "python3",
      "display_name": "Python 3"
    },
    "language_info": {
      "name": "python"
    }
  },
  "cells": [
    {
      "cell_type": "markdown",
      "source": [
        "\"Build a system that can classify if a transaction is fraudulent or not.\"\n",
        "→ The provided code builds a binary classification system using a Random Forest model that learns from transaction data to predict whether TX_FRAUD = 0 (legit) or TX_FRAUD = 1 (fraud).\n",
        "\n"
      ],
      "metadata": {
        "id": "G9Z0_hDLbHGz"
      }
    },
    {
      "cell_type": "markdown",
      "source": [
        "The below code are applicable for Fraud scenarios like\n",
        "\n",
        "1. \"Any transaction whose amount is more than 220 is a fraud.\"\n",
        "\n",
        "Addressed by:\n",
        "\n",
        "-- Including TX_AMOUNT directly as a feature in the model\n",
        "\n",
        "-- The model can learn that higher amounts (especially >220) are strong indicators of fraud\n",
        "\n",
        "Why it works: Random Forests can detect this obvious pattern during training.\n",
        "\n",
        "2. \"Two terminals per day generate fraudulent transactions for 28 days.\"\n",
        "\n",
        "Partially addressed by:\n",
        "\n",
        "-- Including TX_DAY, TX_HOUR, and TX_WEEKDAY as features (to give the model some time context)\n",
        "\n",
        "-- Terminal-specific fraud patterns are not explicitly engineered yet — but can be added via:\n",
        "\n",
        "--> Terminal-level rolling fraud count (optional enhancement)\n",
        "credit_card_data['TERMINAL_TX_COUNT'] = credit_card_data.groupby('TERMINAL_ID')['TX_AMOUNT'].transform('count')\n",
        "Recommendation: Add a rolling fraud rate per terminal over past N days to explicitly capture this pattern.\n",
        "\n",
        "3. \"3 random customers have 1/3 of their transactions increased 5× and marked as fraud.\"\n",
        "\n",
        "Partially addressed by:\n",
        "\n",
        "-- Including TX_AMOUNT and total transaction count per customer (CUSTOMER_TX_COUNT) as features\n",
        "\n",
        "-- Better approach: Add features like average transaction amount per customer, and transaction deviation:\n",
        "\n",
        "--> Avg amount per customer\n",
        "avg_tx = credit_card_data.groupby('CUSTOMER_ID')['TX_AMOUNT'].transform('mean')\n",
        "credit_card_data['TX_AMOUNT_DEV'] = credit_card_data['TX_AMOUNT'] / (avg_tx + 1e-5)\n",
        "\n",
        "This helps detect when a transaction is 5× a customer's normal spending pattern.\n",
        "\n",
        "\n",
        "\n"
      ],
      "metadata": {
        "id": "ik_NNOTOc-4S"
      }
    },
    {
      "cell_type": "code",
      "source": [
        "from google.colab import drive\n",
        "drive.mount('/content/drive')"
      ],
      "metadata": {
        "colab": {
          "base_uri": "https://localhost:8080/"
        },
        "id": "FWjpj2Z8VXPv",
        "outputId": "2cd3de33-7263-4fae-8139-cd87da5b4570"
      },
      "execution_count": null,
      "outputs": [
        {
          "output_type": "stream",
          "name": "stdout",
          "text": [
            "Mounted at /content/drive\n"
          ]
        }
      ]
    },
    {
      "cell_type": "code",
      "source": [
        "!pip install chardet\n",
        "import chardet\n",
        "\n",
        "# Read the raw binary and detect encoding\n",
        "with open('/content/drive/MyDrive/Projects/fraud_detection/dataset.csv', 'rb') as f:\n",
        "    result = chardet.detect(f.read(10000))  # sample 10,000 bytes\n",
        "    print(result)\n"
      ],
      "metadata": {
        "colab": {
          "base_uri": "https://localhost:8080/"
        },
        "id": "7V-2cTRtWkPY",
        "outputId": "d754c687-e37a-4825-bbfb-e9c746a08b3b"
      },
      "execution_count": null,
      "outputs": [
        {
          "output_type": "stream",
          "name": "stdout",
          "text": [
            "Requirement already satisfied: chardet in /usr/local/lib/python3.11/dist-packages (5.2.0)\n",
            "{'encoding': None, 'confidence': 0.0, 'language': None}\n"
          ]
        }
      ]
    },
    {
      "cell_type": "code",
      "source": [
        "with open('/content/drive/MyDrive/Projects/fraud_detection/dataset.csv', 'rb') as f:\n",
        "    raw_bytes = f.read(100)\n",
        "    print(raw_bytes)\n"
      ],
      "metadata": {
        "colab": {
          "base_uri": "https://localhost:8080/"
        },
        "id": "3_g2Jbw6W-tc",
        "outputId": "d67659d3-dd6e-462d-d4bf-e565fb512cb4"
      },
      "execution_count": null,
      "outputs": [
        {
          "output_type": "stream",
          "name": "stdout",
          "text": [
            "b'PK\\x03\\x04\\x14\\x00\\x00\\x00\\x00\\x00}w\\xa3R\\x00\\x00\\x00\\x00\\x00\\x00\\x00\\x00\\x00\\x00\\x00\\x00\\x05\\x00\\x00\\x00data/PK\\x03\\x04\\x14\\x00\\x00\\x00\\x08\\x00}w\\xa3RR\\x96\\xbd\\xa2\\xa0p\\x02\\x00g\\x96\\x08\\x00\\x13\\x00\\x00\\x00data/2018-04-01.pkll\\xddS\\x18$\\xcd\\x15\\x00\\xd0\\xacm\\xdb\\xb6m\\xdb\\xc9'\n"
          ]
        }
      ]
    },
    {
      "cell_type": "markdown",
      "source": [
        "Since the dataset.csv file is a zip file we extract the file as filename: \"extracted_data\" and end up as \".pkl\" extension file which makes the data to easily extracted"
      ],
      "metadata": {
        "id": "Le3q2_gnbgfO"
      }
    },
    {
      "cell_type": "code",
      "source": [
        "import zipfile\n",
        "import os\n",
        "\n",
        "zip_path = '/content/drive/MyDrive/Projects/fraud_detection/dataset.csv'  # actually a .zip\n",
        "extract_path = '/content/extracted_data'\n",
        "\n",
        "# Extract the ZIP file\n",
        "with zipfile.ZipFile(zip_path, 'r') as zip_ref:\n",
        "    zip_ref.extractall(extract_path)\n",
        "\n",
        "# List files that were extracted\n",
        "extracted_files = os.listdir(extract_path)\n",
        "print(\"Extracted files:\", extracted_files)\n"
      ],
      "metadata": {
        "colab": {
          "base_uri": "https://localhost:8080/"
        },
        "id": "UsnJ3HTvXaRj",
        "outputId": "f776ee71-5349-4580-a11a-42a7c4a0ec78"
      },
      "execution_count": null,
      "outputs": [
        {
          "output_type": "stream",
          "name": "stdout",
          "text": [
            "Extracted files: ['data']\n"
          ]
        }
      ]
    },
    {
      "cell_type": "code",
      "source": [
        "import os\n",
        "\n",
        "extract_path = '/content/extracted_data'\n",
        "extracted_files = []\n",
        "\n",
        "# Recursively find all files in extracted directory\n",
        "for root, dirs, files in os.walk(extract_path):\n",
        "    for file in files:\n",
        "        extracted_files.append(os.path.join(root, file))\n",
        "\n",
        "# Show the list\n",
        "for f in extracted_files:\n",
        "    print(f)\n"
      ],
      "metadata": {
        "colab": {
          "base_uri": "https://localhost:8080/"
        },
        "id": "cqwbPqLAX-4I",
        "outputId": "63bd34c4-3183-4493-dd6c-79ef937695ab"
      },
      "execution_count": null,
      "outputs": [
        {
          "output_type": "stream",
          "name": "stdout",
          "text": [
            "/content/extracted_data/data/2018-09-20.pkl\n",
            "/content/extracted_data/data/2018-09-06.pkl\n",
            "/content/extracted_data/data/2018-06-05.pkl\n",
            "/content/extracted_data/data/2018-05-15.pkl\n",
            "/content/extracted_data/data/2018-05-29.pkl\n",
            "/content/extracted_data/data/2018-04-15.pkl\n",
            "/content/extracted_data/data/2018-09-24.pkl\n",
            "/content/extracted_data/data/2018-05-30.pkl\n",
            "/content/extracted_data/data/2018-05-09.pkl\n",
            "/content/extracted_data/data/2018-05-26.pkl\n",
            "/content/extracted_data/data/2018-07-17.pkl\n",
            "/content/extracted_data/data/2018-08-12.pkl\n",
            "/content/extracted_data/data/2018-04-01.pkl\n",
            "/content/extracted_data/data/2018-08-29.pkl\n",
            "/content/extracted_data/data/2018-05-10.pkl\n",
            "/content/extracted_data/data/2018-08-22.pkl\n",
            "/content/extracted_data/data/2018-07-31.pkl\n",
            "/content/extracted_data/data/2018-08-24.pkl\n",
            "/content/extracted_data/data/2018-09-27.pkl\n",
            "/content/extracted_data/data/2018-06-01.pkl\n",
            "/content/extracted_data/data/2018-09-09.pkl\n",
            "/content/extracted_data/data/2018-08-03.pkl\n",
            "/content/extracted_data/data/2018-04-13.pkl\n",
            "/content/extracted_data/data/2018-04-05.pkl\n",
            "/content/extracted_data/data/2018-04-04.pkl\n",
            "/content/extracted_data/data/2018-06-26.pkl\n",
            "/content/extracted_data/data/2018-04-25.pkl\n",
            "/content/extracted_data/data/2018-05-21.pkl\n",
            "/content/extracted_data/data/2018-05-03.pkl\n",
            "/content/extracted_data/data/2018-08-30.pkl\n",
            "/content/extracted_data/data/2018-04-07.pkl\n",
            "/content/extracted_data/data/2018-06-04.pkl\n",
            "/content/extracted_data/data/2018-04-19.pkl\n",
            "/content/extracted_data/data/2018-07-30.pkl\n",
            "/content/extracted_data/data/2018-08-17.pkl\n",
            "/content/extracted_data/data/2018-05-20.pkl\n",
            "/content/extracted_data/data/2018-04-26.pkl\n",
            "/content/extracted_data/data/2018-04-21.pkl\n",
            "/content/extracted_data/data/2018-06-16.pkl\n",
            "/content/extracted_data/data/2018-07-10.pkl\n",
            "/content/extracted_data/data/2018-07-08.pkl\n",
            "/content/extracted_data/data/2018-05-19.pkl\n",
            "/content/extracted_data/data/2018-04-08.pkl\n",
            "/content/extracted_data/data/2018-07-12.pkl\n",
            "/content/extracted_data/data/2018-09-11.pkl\n",
            "/content/extracted_data/data/2018-04-16.pkl\n",
            "/content/extracted_data/data/2018-07-06.pkl\n",
            "/content/extracted_data/data/2018-08-26.pkl\n",
            "/content/extracted_data/data/2018-05-13.pkl\n",
            "/content/extracted_data/data/2018-05-18.pkl\n",
            "/content/extracted_data/data/2018-04-27.pkl\n",
            "/content/extracted_data/data/2018-08-20.pkl\n",
            "/content/extracted_data/data/2018-06-24.pkl\n",
            "/content/extracted_data/data/2018-04-22.pkl\n",
            "/content/extracted_data/data/2018-04-24.pkl\n",
            "/content/extracted_data/data/2018-05-06.pkl\n",
            "/content/extracted_data/data/2018-06-30.pkl\n",
            "/content/extracted_data/data/2018-07-23.pkl\n",
            "/content/extracted_data/data/2018-07-20.pkl\n",
            "/content/extracted_data/data/2018-04-06.pkl\n",
            "/content/extracted_data/data/2018-09-05.pkl\n",
            "/content/extracted_data/data/2018-06-28.pkl\n",
            "/content/extracted_data/data/2018-05-12.pkl\n",
            "/content/extracted_data/data/2018-09-13.pkl\n",
            "/content/extracted_data/data/2018-08-27.pkl\n",
            "/content/extracted_data/data/2018-05-08.pkl\n",
            "/content/extracted_data/data/2018-09-28.pkl\n",
            "/content/extracted_data/data/2018-08-09.pkl\n",
            "/content/extracted_data/data/2018-07-15.pkl\n",
            "/content/extracted_data/data/2018-06-20.pkl\n",
            "/content/extracted_data/data/2018-08-18.pkl\n",
            "/content/extracted_data/data/2018-08-10.pkl\n",
            "/content/extracted_data/data/2018-07-27.pkl\n",
            "/content/extracted_data/data/2018-05-22.pkl\n",
            "/content/extracted_data/data/2018-04-30.pkl\n",
            "/content/extracted_data/data/2018-09-30.pkl\n",
            "/content/extracted_data/data/2018-06-03.pkl\n",
            "/content/extracted_data/data/2018-06-17.pkl\n",
            "/content/extracted_data/data/2018-08-19.pkl\n",
            "/content/extracted_data/data/2018-06-12.pkl\n",
            "/content/extracted_data/data/2018-08-31.pkl\n",
            "/content/extracted_data/data/2018-09-19.pkl\n",
            "/content/extracted_data/data/2018-07-22.pkl\n",
            "/content/extracted_data/data/2018-08-15.pkl\n",
            "/content/extracted_data/data/2018-07-14.pkl\n",
            "/content/extracted_data/data/2018-09-02.pkl\n",
            "/content/extracted_data/data/2018-07-02.pkl\n",
            "/content/extracted_data/data/2018-08-08.pkl\n",
            "/content/extracted_data/data/2018-04-14.pkl\n",
            "/content/extracted_data/data/2018-09-04.pkl\n",
            "/content/extracted_data/data/2018-05-01.pkl\n",
            "/content/extracted_data/data/2018-08-28.pkl\n",
            "/content/extracted_data/data/2018-06-29.pkl\n",
            "/content/extracted_data/data/2018-04-03.pkl\n",
            "/content/extracted_data/data/2018-06-27.pkl\n",
            "/content/extracted_data/data/2018-04-11.pkl\n",
            "/content/extracted_data/data/2018-07-29.pkl\n",
            "/content/extracted_data/data/2018-06-23.pkl\n",
            "/content/extracted_data/data/2018-08-02.pkl\n",
            "/content/extracted_data/data/2018-04-29.pkl\n",
            "/content/extracted_data/data/2018-06-13.pkl\n",
            "/content/extracted_data/data/2018-06-19.pkl\n",
            "/content/extracted_data/data/2018-07-26.pkl\n",
            "/content/extracted_data/data/2018-05-31.pkl\n",
            "/content/extracted_data/data/2018-05-27.pkl\n",
            "/content/extracted_data/data/2018-05-25.pkl\n",
            "/content/extracted_data/data/2018-05-05.pkl\n",
            "/content/extracted_data/data/2018-09-23.pkl\n",
            "/content/extracted_data/data/2018-07-04.pkl\n",
            "/content/extracted_data/data/2018-08-11.pkl\n",
            "/content/extracted_data/data/2018-07-01.pkl\n",
            "/content/extracted_data/data/2018-06-18.pkl\n",
            "/content/extracted_data/data/2018-04-12.pkl\n",
            "/content/extracted_data/data/2018-07-11.pkl\n",
            "/content/extracted_data/data/2018-05-11.pkl\n",
            "/content/extracted_data/data/2018-06-22.pkl\n",
            "/content/extracted_data/data/2018-07-21.pkl\n",
            "/content/extracted_data/data/2018-06-14.pkl\n",
            "/content/extracted_data/data/2018-07-09.pkl\n",
            "/content/extracted_data/data/2018-08-06.pkl\n",
            "/content/extracted_data/data/2018-04-28.pkl\n",
            "/content/extracted_data/data/2018-05-04.pkl\n",
            "/content/extracted_data/data/2018-07-16.pkl\n",
            "/content/extracted_data/data/2018-06-15.pkl\n",
            "/content/extracted_data/data/2018-09-10.pkl\n",
            "/content/extracted_data/data/2018-04-10.pkl\n",
            "/content/extracted_data/data/2018-06-09.pkl\n",
            "/content/extracted_data/data/2018-07-24.pkl\n",
            "/content/extracted_data/data/2018-08-25.pkl\n",
            "/content/extracted_data/data/2018-07-18.pkl\n",
            "/content/extracted_data/data/2018-04-18.pkl\n",
            "/content/extracted_data/data/2018-05-16.pkl\n",
            "/content/extracted_data/data/2018-09-17.pkl\n",
            "/content/extracted_data/data/2018-07-07.pkl\n",
            "/content/extracted_data/data/2018-07-13.pkl\n",
            "/content/extracted_data/data/2018-06-11.pkl\n",
            "/content/extracted_data/data/2018-09-14.pkl\n",
            "/content/extracted_data/data/2018-09-01.pkl\n",
            "/content/extracted_data/data/2018-08-14.pkl\n",
            "/content/extracted_data/data/2018-08-21.pkl\n",
            "/content/extracted_data/data/2018-05-17.pkl\n",
            "/content/extracted_data/data/2018-07-25.pkl\n",
            "/content/extracted_data/data/2018-07-03.pkl\n",
            "/content/extracted_data/data/2018-05-28.pkl\n",
            "/content/extracted_data/data/2018-09-03.pkl\n",
            "/content/extracted_data/data/2018-06-21.pkl\n",
            "/content/extracted_data/data/2018-05-23.pkl\n",
            "/content/extracted_data/data/2018-06-07.pkl\n",
            "/content/extracted_data/data/2018-09-21.pkl\n",
            "/content/extracted_data/data/2018-06-25.pkl\n",
            "/content/extracted_data/data/2018-04-09.pkl\n",
            "/content/extracted_data/data/2018-07-05.pkl\n",
            "/content/extracted_data/data/2018-09-07.pkl\n",
            "/content/extracted_data/data/2018-05-02.pkl\n",
            "/content/extracted_data/data/2018-05-24.pkl\n",
            "/content/extracted_data/data/2018-09-16.pkl\n",
            "/content/extracted_data/data/2018-05-07.pkl\n",
            "/content/extracted_data/data/2018-05-14.pkl\n",
            "/content/extracted_data/data/2018-09-25.pkl\n",
            "/content/extracted_data/data/2018-08-07.pkl\n",
            "/content/extracted_data/data/2018-09-12.pkl\n",
            "/content/extracted_data/data/2018-06-06.pkl\n",
            "/content/extracted_data/data/2018-07-19.pkl\n",
            "/content/extracted_data/data/2018-08-04.pkl\n",
            "/content/extracted_data/data/2018-04-23.pkl\n",
            "/content/extracted_data/data/2018-09-22.pkl\n",
            "/content/extracted_data/data/2018-09-26.pkl\n",
            "/content/extracted_data/data/2018-09-15.pkl\n",
            "/content/extracted_data/data/2018-04-20.pkl\n",
            "/content/extracted_data/data/2018-04-17.pkl\n",
            "/content/extracted_data/data/2018-04-02.pkl\n",
            "/content/extracted_data/data/2018-08-05.pkl\n",
            "/content/extracted_data/data/2018-08-01.pkl\n",
            "/content/extracted_data/data/2018-09-08.pkl\n",
            "/content/extracted_data/data/2018-09-18.pkl\n",
            "/content/extracted_data/data/2018-08-13.pkl\n",
            "/content/extracted_data/data/2018-08-23.pkl\n",
            "/content/extracted_data/data/2018-07-28.pkl\n",
            "/content/extracted_data/data/2018-06-02.pkl\n",
            "/content/extracted_data/data/2018-06-08.pkl\n",
            "/content/extracted_data/data/2018-09-29.pkl\n",
            "/content/extracted_data/data/2018-06-10.pkl\n",
            "/content/extracted_data/data/2018-08-16.pkl\n"
          ]
        }
      ]
    },
    {
      "cell_type": "code",
      "source": [
        "import pandas as pd\n",
        "\n",
        "credit_card_data = pd.read_pickle('/content/extracted_data/data/2018-04-01.pkl')\n"
      ],
      "metadata": {
        "id": "hLv08ODXYB6q"
      },
      "execution_count": null,
      "outputs": []
    },
    {
      "cell_type": "code",
      "source": [
        "!ls /content/"
      ],
      "metadata": {
        "colab": {
          "base_uri": "https://localhost:8080/"
        },
        "id": "XFAloaD3ZxL_",
        "outputId": "5318747e-82ee-4392-c217-6efd8e62f27b"
      },
      "execution_count": null,
      "outputs": [
        {
          "output_type": "stream",
          "name": "stdout",
          "text": [
            "drive  extracted_data  sample_data\n"
          ]
        }
      ]
    },
    {
      "cell_type": "code",
      "source": [
        "import pandas as pd\n",
        "import numpy as np\n",
        "import matplotlib.pyplot as plt\n",
        "import seaborn as sns\n",
        "from sklearn.model_selection import train_test_split\n",
        "from sklearn.ensemble import RandomForestClassifier\n",
        "from sklearn.metrics import classification_report, confusion_matrix, accuracy_score\n"
      ],
      "metadata": {
        "id": "fEey_lzfZ1NP"
      },
      "execution_count": null,
      "outputs": []
    },
    {
      "cell_type": "code",
      "source": [
        "# Already loaded\n",
        "# credit_card_data = pd.read_pickle('/content/extracted_data/data/2018-04-01.pkl')\n",
        "\n",
        "# Preview the data\n",
        "credit_card_data.head()\n"
      ],
      "metadata": {
        "colab": {
          "base_uri": "https://localhost:8080/",
          "height": 206
        },
        "id": "8R68f7TMZ6N2",
        "outputId": "c6769bc4-d36d-44cc-8022-137099bf8be2"
      },
      "execution_count": null,
      "outputs": [
        {
          "output_type": "execute_result",
          "data": {
            "text/plain": [
              "   TRANSACTION_ID         TX_DATETIME CUSTOMER_ID TERMINAL_ID  TX_AMOUNT  \\\n",
              "0               0 2018-04-01 00:00:31         596        3156      57.16   \n",
              "1               1 2018-04-01 00:02:10        4961        3412      81.51   \n",
              "2               2 2018-04-01 00:07:56           2        1365     146.00   \n",
              "3               3 2018-04-01 00:09:29        4128        8737      64.49   \n",
              "4               4 2018-04-01 00:10:34         927        9906      50.99   \n",
              "\n",
              "  TX_TIME_SECONDS TX_TIME_DAYS  TX_FRAUD  TX_FRAUD_SCENARIO  \n",
              "0              31            0         0                  0  \n",
              "1             130            0         0                  0  \n",
              "2             476            0         0                  0  \n",
              "3             569            0         0                  0  \n",
              "4             634            0         0                  0  "
            ],
            "text/html": [
              "\n",
              "  <div id=\"df-5d79a8fe-3aaa-4471-82b9-d7b4e38b2569\" class=\"colab-df-container\">\n",
              "    <div>\n",
              "<style scoped>\n",
              "    .dataframe tbody tr th:only-of-type {\n",
              "        vertical-align: middle;\n",
              "    }\n",
              "\n",
              "    .dataframe tbody tr th {\n",
              "        vertical-align: top;\n",
              "    }\n",
              "\n",
              "    .dataframe thead th {\n",
              "        text-align: right;\n",
              "    }\n",
              "</style>\n",
              "<table border=\"1\" class=\"dataframe\">\n",
              "  <thead>\n",
              "    <tr style=\"text-align: right;\">\n",
              "      <th></th>\n",
              "      <th>TRANSACTION_ID</th>\n",
              "      <th>TX_DATETIME</th>\n",
              "      <th>CUSTOMER_ID</th>\n",
              "      <th>TERMINAL_ID</th>\n",
              "      <th>TX_AMOUNT</th>\n",
              "      <th>TX_TIME_SECONDS</th>\n",
              "      <th>TX_TIME_DAYS</th>\n",
              "      <th>TX_FRAUD</th>\n",
              "      <th>TX_FRAUD_SCENARIO</th>\n",
              "    </tr>\n",
              "  </thead>\n",
              "  <tbody>\n",
              "    <tr>\n",
              "      <th>0</th>\n",
              "      <td>0</td>\n",
              "      <td>2018-04-01 00:00:31</td>\n",
              "      <td>596</td>\n",
              "      <td>3156</td>\n",
              "      <td>57.16</td>\n",
              "      <td>31</td>\n",
              "      <td>0</td>\n",
              "      <td>0</td>\n",
              "      <td>0</td>\n",
              "    </tr>\n",
              "    <tr>\n",
              "      <th>1</th>\n",
              "      <td>1</td>\n",
              "      <td>2018-04-01 00:02:10</td>\n",
              "      <td>4961</td>\n",
              "      <td>3412</td>\n",
              "      <td>81.51</td>\n",
              "      <td>130</td>\n",
              "      <td>0</td>\n",
              "      <td>0</td>\n",
              "      <td>0</td>\n",
              "    </tr>\n",
              "    <tr>\n",
              "      <th>2</th>\n",
              "      <td>2</td>\n",
              "      <td>2018-04-01 00:07:56</td>\n",
              "      <td>2</td>\n",
              "      <td>1365</td>\n",
              "      <td>146.00</td>\n",
              "      <td>476</td>\n",
              "      <td>0</td>\n",
              "      <td>0</td>\n",
              "      <td>0</td>\n",
              "    </tr>\n",
              "    <tr>\n",
              "      <th>3</th>\n",
              "      <td>3</td>\n",
              "      <td>2018-04-01 00:09:29</td>\n",
              "      <td>4128</td>\n",
              "      <td>8737</td>\n",
              "      <td>64.49</td>\n",
              "      <td>569</td>\n",
              "      <td>0</td>\n",
              "      <td>0</td>\n",
              "      <td>0</td>\n",
              "    </tr>\n",
              "    <tr>\n",
              "      <th>4</th>\n",
              "      <td>4</td>\n",
              "      <td>2018-04-01 00:10:34</td>\n",
              "      <td>927</td>\n",
              "      <td>9906</td>\n",
              "      <td>50.99</td>\n",
              "      <td>634</td>\n",
              "      <td>0</td>\n",
              "      <td>0</td>\n",
              "      <td>0</td>\n",
              "    </tr>\n",
              "  </tbody>\n",
              "</table>\n",
              "</div>\n",
              "    <div class=\"colab-df-buttons\">\n",
              "\n",
              "  <div class=\"colab-df-container\">\n",
              "    <button class=\"colab-df-convert\" onclick=\"convertToInteractive('df-5d79a8fe-3aaa-4471-82b9-d7b4e38b2569')\"\n",
              "            title=\"Convert this dataframe to an interactive table.\"\n",
              "            style=\"display:none;\">\n",
              "\n",
              "  <svg xmlns=\"http://www.w3.org/2000/svg\" height=\"24px\" viewBox=\"0 -960 960 960\">\n",
              "    <path d=\"M120-120v-720h720v720H120Zm60-500h600v-160H180v160Zm220 220h160v-160H400v160Zm0 220h160v-160H400v160ZM180-400h160v-160H180v160Zm440 0h160v-160H620v160ZM180-180h160v-160H180v160Zm440 0h160v-160H620v160Z\"/>\n",
              "  </svg>\n",
              "    </button>\n",
              "\n",
              "  <style>\n",
              "    .colab-df-container {\n",
              "      display:flex;\n",
              "      gap: 12px;\n",
              "    }\n",
              "\n",
              "    .colab-df-convert {\n",
              "      background-color: #E8F0FE;\n",
              "      border: none;\n",
              "      border-radius: 50%;\n",
              "      cursor: pointer;\n",
              "      display: none;\n",
              "      fill: #1967D2;\n",
              "      height: 32px;\n",
              "      padding: 0 0 0 0;\n",
              "      width: 32px;\n",
              "    }\n",
              "\n",
              "    .colab-df-convert:hover {\n",
              "      background-color: #E2EBFA;\n",
              "      box-shadow: 0px 1px 2px rgba(60, 64, 67, 0.3), 0px 1px 3px 1px rgba(60, 64, 67, 0.15);\n",
              "      fill: #174EA6;\n",
              "    }\n",
              "\n",
              "    .colab-df-buttons div {\n",
              "      margin-bottom: 4px;\n",
              "    }\n",
              "\n",
              "    [theme=dark] .colab-df-convert {\n",
              "      background-color: #3B4455;\n",
              "      fill: #D2E3FC;\n",
              "    }\n",
              "\n",
              "    [theme=dark] .colab-df-convert:hover {\n",
              "      background-color: #434B5C;\n",
              "      box-shadow: 0px 1px 3px 1px rgba(0, 0, 0, 0.15);\n",
              "      filter: drop-shadow(0px 1px 2px rgba(0, 0, 0, 0.3));\n",
              "      fill: #FFFFFF;\n",
              "    }\n",
              "  </style>\n",
              "\n",
              "    <script>\n",
              "      const buttonEl =\n",
              "        document.querySelector('#df-5d79a8fe-3aaa-4471-82b9-d7b4e38b2569 button.colab-df-convert');\n",
              "      buttonEl.style.display =\n",
              "        google.colab.kernel.accessAllowed ? 'block' : 'none';\n",
              "\n",
              "      async function convertToInteractive(key) {\n",
              "        const element = document.querySelector('#df-5d79a8fe-3aaa-4471-82b9-d7b4e38b2569');\n",
              "        const dataTable =\n",
              "          await google.colab.kernel.invokeFunction('convertToInteractive',\n",
              "                                                    [key], {});\n",
              "        if (!dataTable) return;\n",
              "\n",
              "        const docLinkHtml = 'Like what you see? Visit the ' +\n",
              "          '<a target=\"_blank\" href=https://colab.research.google.com/notebooks/data_table.ipynb>data table notebook</a>'\n",
              "          + ' to learn more about interactive tables.';\n",
              "        element.innerHTML = '';\n",
              "        dataTable['output_type'] = 'display_data';\n",
              "        await google.colab.output.renderOutput(dataTable, element);\n",
              "        const docLink = document.createElement('div');\n",
              "        docLink.innerHTML = docLinkHtml;\n",
              "        element.appendChild(docLink);\n",
              "      }\n",
              "    </script>\n",
              "  </div>\n",
              "\n",
              "\n",
              "<div id=\"df-150e2dbd-88e6-48bb-ab1e-f4f2cd7416b7\">\n",
              "  <button class=\"colab-df-quickchart\" onclick=\"quickchart('df-150e2dbd-88e6-48bb-ab1e-f4f2cd7416b7')\"\n",
              "            title=\"Suggest charts\"\n",
              "            style=\"display:none;\">\n",
              "\n",
              "<svg xmlns=\"http://www.w3.org/2000/svg\" height=\"24px\"viewBox=\"0 0 24 24\"\n",
              "     width=\"24px\">\n",
              "    <g>\n",
              "        <path d=\"M19 3H5c-1.1 0-2 .9-2 2v14c0 1.1.9 2 2 2h14c1.1 0 2-.9 2-2V5c0-1.1-.9-2-2-2zM9 17H7v-7h2v7zm4 0h-2V7h2v10zm4 0h-2v-4h2v4z\"/>\n",
              "    </g>\n",
              "</svg>\n",
              "  </button>\n",
              "\n",
              "<style>\n",
              "  .colab-df-quickchart {\n",
              "      --bg-color: #E8F0FE;\n",
              "      --fill-color: #1967D2;\n",
              "      --hover-bg-color: #E2EBFA;\n",
              "      --hover-fill-color: #174EA6;\n",
              "      --disabled-fill-color: #AAA;\n",
              "      --disabled-bg-color: #DDD;\n",
              "  }\n",
              "\n",
              "  [theme=dark] .colab-df-quickchart {\n",
              "      --bg-color: #3B4455;\n",
              "      --fill-color: #D2E3FC;\n",
              "      --hover-bg-color: #434B5C;\n",
              "      --hover-fill-color: #FFFFFF;\n",
              "      --disabled-bg-color: #3B4455;\n",
              "      --disabled-fill-color: #666;\n",
              "  }\n",
              "\n",
              "  .colab-df-quickchart {\n",
              "    background-color: var(--bg-color);\n",
              "    border: none;\n",
              "    border-radius: 50%;\n",
              "    cursor: pointer;\n",
              "    display: none;\n",
              "    fill: var(--fill-color);\n",
              "    height: 32px;\n",
              "    padding: 0;\n",
              "    width: 32px;\n",
              "  }\n",
              "\n",
              "  .colab-df-quickchart:hover {\n",
              "    background-color: var(--hover-bg-color);\n",
              "    box-shadow: 0 1px 2px rgba(60, 64, 67, 0.3), 0 1px 3px 1px rgba(60, 64, 67, 0.15);\n",
              "    fill: var(--button-hover-fill-color);\n",
              "  }\n",
              "\n",
              "  .colab-df-quickchart-complete:disabled,\n",
              "  .colab-df-quickchart-complete:disabled:hover {\n",
              "    background-color: var(--disabled-bg-color);\n",
              "    fill: var(--disabled-fill-color);\n",
              "    box-shadow: none;\n",
              "  }\n",
              "\n",
              "  .colab-df-spinner {\n",
              "    border: 2px solid var(--fill-color);\n",
              "    border-color: transparent;\n",
              "    border-bottom-color: var(--fill-color);\n",
              "    animation:\n",
              "      spin 1s steps(1) infinite;\n",
              "  }\n",
              "\n",
              "  @keyframes spin {\n",
              "    0% {\n",
              "      border-color: transparent;\n",
              "      border-bottom-color: var(--fill-color);\n",
              "      border-left-color: var(--fill-color);\n",
              "    }\n",
              "    20% {\n",
              "      border-color: transparent;\n",
              "      border-left-color: var(--fill-color);\n",
              "      border-top-color: var(--fill-color);\n",
              "    }\n",
              "    30% {\n",
              "      border-color: transparent;\n",
              "      border-left-color: var(--fill-color);\n",
              "      border-top-color: var(--fill-color);\n",
              "      border-right-color: var(--fill-color);\n",
              "    }\n",
              "    40% {\n",
              "      border-color: transparent;\n",
              "      border-right-color: var(--fill-color);\n",
              "      border-top-color: var(--fill-color);\n",
              "    }\n",
              "    60% {\n",
              "      border-color: transparent;\n",
              "      border-right-color: var(--fill-color);\n",
              "    }\n",
              "    80% {\n",
              "      border-color: transparent;\n",
              "      border-right-color: var(--fill-color);\n",
              "      border-bottom-color: var(--fill-color);\n",
              "    }\n",
              "    90% {\n",
              "      border-color: transparent;\n",
              "      border-bottom-color: var(--fill-color);\n",
              "    }\n",
              "  }\n",
              "</style>\n",
              "\n",
              "  <script>\n",
              "    async function quickchart(key) {\n",
              "      const quickchartButtonEl =\n",
              "        document.querySelector('#' + key + ' button');\n",
              "      quickchartButtonEl.disabled = true;  // To prevent multiple clicks.\n",
              "      quickchartButtonEl.classList.add('colab-df-spinner');\n",
              "      try {\n",
              "        const charts = await google.colab.kernel.invokeFunction(\n",
              "            'suggestCharts', [key], {});\n",
              "      } catch (error) {\n",
              "        console.error('Error during call to suggestCharts:', error);\n",
              "      }\n",
              "      quickchartButtonEl.classList.remove('colab-df-spinner');\n",
              "      quickchartButtonEl.classList.add('colab-df-quickchart-complete');\n",
              "    }\n",
              "    (() => {\n",
              "      let quickchartButtonEl =\n",
              "        document.querySelector('#df-150e2dbd-88e6-48bb-ab1e-f4f2cd7416b7 button');\n",
              "      quickchartButtonEl.style.display =\n",
              "        google.colab.kernel.accessAllowed ? 'block' : 'none';\n",
              "    })();\n",
              "  </script>\n",
              "</div>\n",
              "\n",
              "    </div>\n",
              "  </div>\n"
            ],
            "application/vnd.google.colaboratory.intrinsic+json": {
              "type": "dataframe",
              "variable_name": "credit_card_data",
              "summary": "{\n  \"name\": \"credit_card_data\",\n  \"rows\": 9488,\n  \"fields\": [\n    {\n      \"column\": \"TRANSACTION_ID\",\n      \"properties\": {\n        \"dtype\": \"number\",\n        \"std\": 2739,\n        \"min\": 0,\n        \"max\": 9487,\n        \"num_unique_values\": 9488,\n        \"samples\": [\n          2210,\n          2907,\n          1530\n        ],\n        \"semantic_type\": \"\",\n        \"description\": \"\"\n      }\n    },\n    {\n      \"column\": \"TX_DATETIME\",\n      \"properties\": {\n        \"dtype\": \"date\",\n        \"min\": \"2018-04-01 00:00:31\",\n        \"max\": \"2018-04-01 23:59:51\",\n        \"num_unique_values\": 8875,\n        \"samples\": [\n          \"2018-04-01 14:14:51\",\n          \"2018-04-01 19:26:00\",\n          \"2018-04-01 18:22:57\"\n        ],\n        \"semantic_type\": \"\",\n        \"description\": \"\"\n      }\n    },\n    {\n      \"column\": \"CUSTOMER_ID\",\n      \"properties\": {\n        \"dtype\": \"date\",\n        \"min\": 0,\n        \"max\": 4999,\n        \"num_unique_values\": 3676,\n        \"samples\": [\n          854,\n          2623,\n          3146\n        ],\n        \"semantic_type\": \"\",\n        \"description\": \"\"\n      }\n    },\n    {\n      \"column\": \"TERMINAL_ID\",\n      \"properties\": {\n        \"dtype\": \"date\",\n        \"min\": 1,\n        \"max\": 9999,\n        \"num_unique_values\": 6028,\n        \"samples\": [\n          2766,\n          333,\n          7973\n        ],\n        \"semantic_type\": \"\",\n        \"description\": \"\"\n      }\n    },\n    {\n      \"column\": \"TX_AMOUNT\",\n      \"properties\": {\n        \"dtype\": \"number\",\n        \"std\": 39.50407109123489,\n        \"min\": 0.13,\n        \"max\": 226.4,\n        \"num_unique_values\": 6604,\n        \"samples\": [\n          52.89,\n          35.22,\n          24.86\n        ],\n        \"semantic_type\": \"\",\n        \"description\": \"\"\n      }\n    },\n    {\n      \"column\": \"TX_TIME_SECONDS\",\n      \"properties\": {\n        \"dtype\": \"date\",\n        \"min\": 31,\n        \"max\": 86391,\n        \"num_unique_values\": 8875,\n        \"samples\": [\n          51291,\n          69960,\n          66177\n        ],\n        \"semantic_type\": \"\",\n        \"description\": \"\"\n      }\n    },\n    {\n      \"column\": \"TX_TIME_DAYS\",\n      \"properties\": {\n        \"dtype\": \"date\",\n        \"min\": 0,\n        \"max\": 0,\n        \"num_unique_values\": 1,\n        \"samples\": [\n          0\n        ],\n        \"semantic_type\": \"\",\n        \"description\": \"\"\n      }\n    },\n    {\n      \"column\": \"TX_FRAUD\",\n      \"properties\": {\n        \"dtype\": \"number\",\n        \"std\": 0,\n        \"min\": 0,\n        \"max\": 1,\n        \"num_unique_values\": 2,\n        \"samples\": [\n          1\n        ],\n        \"semantic_type\": \"\",\n        \"description\": \"\"\n      }\n    },\n    {\n      \"column\": \"TX_FRAUD_SCENARIO\",\n      \"properties\": {\n        \"dtype\": \"number\",\n        \"std\": 0,\n        \"min\": 0,\n        \"max\": 1,\n        \"num_unique_values\": 2,\n        \"samples\": [\n          1\n        ],\n        \"semantic_type\": \"\",\n        \"description\": \"\"\n      }\n    }\n  ]\n}"
            }
          },
          "metadata": {},
          "execution_count": 21
        }
      ]
    },
    {
      "cell_type": "code",
      "source": [
        "# Check for missing values\n",
        "print(credit_card_data.isnull().sum())\n",
        "\n",
        "# Basic statistics\n",
        "print(credit_card_data.describe())\n",
        "\n",
        "# Class distribution\n",
        "sns.countplot(data=credit_card_data, x='TX_FRAUD')\n",
        "plt.title(\"Fraud (1) vs Legitimate (0) Transactions\")\n",
        "plt.show()\n"
      ],
      "metadata": {
        "colab": {
          "base_uri": "https://localhost:8080/",
          "height": 990
        },
        "id": "83FL51LFaB7g",
        "outputId": "a435f667-18cb-492d-b6b4-61d95b58389a"
      },
      "execution_count": null,
      "outputs": [
        {
          "output_type": "stream",
          "name": "stdout",
          "text": [
            "TRANSACTION_ID       0\n",
            "TX_DATETIME          0\n",
            "CUSTOMER_ID          0\n",
            "TERMINAL_ID          0\n",
            "TX_AMOUNT            0\n",
            "TX_TIME_SECONDS      0\n",
            "TX_TIME_DAYS         0\n",
            "TX_FRAUD             0\n",
            "TX_FRAUD_SCENARIO    0\n",
            "dtype: int64\n",
            "       TRANSACTION_ID                    TX_DATETIME    TX_AMOUNT  \\\n",
            "count     9488.000000                           9488  9488.000000   \n",
            "mean      4743.500000  2018-04-01 12:01:31.743676416    53.249981   \n",
            "min          0.000000            2018-04-01 00:00:31     0.130000   \n",
            "25%       2371.750000            2018-04-01 08:25:20    21.197500   \n",
            "50%       4743.500000            2018-04-01 12:00:24    45.590000   \n",
            "75%       7115.250000  2018-04-01 15:37:57.249999872    76.932500   \n",
            "max       9487.000000            2018-04-01 23:59:51   226.400000   \n",
            "std       2739.094011                            NaN    39.504071   \n",
            "\n",
            "          TX_FRAUD  TX_FRAUD_SCENARIO  \n",
            "count  9488.000000        9488.000000  \n",
            "mean      0.000316           0.000316  \n",
            "min       0.000000           0.000000  \n",
            "25%       0.000000           0.000000  \n",
            "50%       0.000000           0.000000  \n",
            "75%       0.000000           0.000000  \n",
            "max       1.000000           1.000000  \n",
            "std       0.017780           0.017780  \n"
          ]
        },
        {
          "output_type": "display_data",
          "data": {
            "text/plain": [
              "<Figure size 640x480 with 1 Axes>"
            ],
            "image/png": "[encoded data removed]"
          },
          "metadata": {}
        }
      ]
    },
    {
      "cell_type": "code",
      "source": [
        "# Convert TX_DATETIME to datetime type\n",
        "credit_card_data['TX_DATETIME'] = pd.to_datetime(credit_card_data['TX_DATETIME'])\n",
        "\n",
        "# Create useful time-based features\n",
        "credit_card_data['TX_DAY'] = credit_card_data['TX_DATETIME'].dt.day\n",
        "credit_card_data['TX_HOUR'] = credit_card_data['TX_DATETIME'].dt.hour\n",
        "credit_card_data['TX_WEEKDAY'] = credit_card_data['TX_DATETIME'].dt.weekday\n",
        "\n",
        "# Aggregated features (customer's and terminal's fraud rates or counts)\n",
        "customer_txn_count = credit_card_data.groupby('CUSTOMER_ID')['TX_AMOUNT'].count().reset_index()\n",
        "customer_txn_count.columns = ['CUSTOMER_ID', 'CUSTOMER_TX_COUNT']\n",
        "\n",
        "credit_card_data = credit_card_data.merge(customer_txn_count, on='CUSTOMER_ID', how='left')\n"
      ],
      "metadata": {
        "id": "5h2dwi3BaF_a"
      },
      "execution_count": null,
      "outputs": []
    },
    {
      "cell_type": "code",
      "source": [
        "# Select features\n",
        "features = ['TX_AMOUNT', 'TX_DAY', 'TX_HOUR', 'TX_WEEKDAY', 'CUSTOMER_TX_COUNT']\n",
        "X = credit_card_data[features]\n",
        "y = credit_card_data['TX_FRAUD']\n",
        "\n",
        "# Split data\n",
        "X_train, X_test, y_train, y_test = train_test_split(X, y, test_size=0.2, random_state=42, stratify=y)\n"
      ],
      "metadata": {
        "id": "lafegH5UaKNl"
      },
      "execution_count": null,
      "outputs": []
    },
    {
      "cell_type": "code",
      "source": [
        "#Training a classifier (Random Forest)\n",
        "clf = RandomForestClassifier(n_estimators=100, random_state=42)\n",
        "clf.fit(X_train, y_train)\n",
        "\n",
        "# Predict\n",
        "y_pred = clf.predict(X_test)\n"
      ],
      "metadata": {
        "id": "U4RYDRTRaOOq"
      },
      "execution_count": null,
      "outputs": []
    },
    {
      "cell_type": "code",
      "source": [
        "# Evaluation of model\n",
        "print(\"Confusion Matrix:\")\n",
        "print(confusion_matrix(y_test, y_pred))\n",
        "\n",
        "print(\"\\nClassification Report:\")\n",
        "print(classification_report(y_test, y_pred))\n",
        "\n",
        "print(\"\\nAccuracy Score:\", accuracy_score(y_test, y_pred))\n"
      ],
      "metadata": {
        "colab": {
          "base_uri": "https://localhost:8080/"
        },
        "id": "8Wh1pLW9aSLK",
        "outputId": "542dd03c-af58-46a2-e02a-89848f441b93"
      },
      "execution_count": null,
      "outputs": [
        {
          "output_type": "stream",
          "name": "stdout",
          "text": [
            "Confusion Matrix:\n",
            "[[1897    0]\n",
            " [   1    0]]\n",
            "\n",
            "Classification Report:\n",
            "              precision    recall  f1-score   support\n",
            "\n",
            "           0       1.00      1.00      1.00      1897\n",
            "           1       0.00      0.00      0.00         1\n",
            "\n",
            "    accuracy                           1.00      1898\n",
            "   macro avg       0.50      0.50      0.50      1898\n",
            "weighted avg       1.00      1.00      1.00      1898\n",
            "\n",
            "\n",
            "Accuracy Score: 0.9994731296101159\n"
          ]
        },
        {
          "output_type": "stream",
          "name": "stderr",
          "text": [
            "/usr/local/lib/python3.11/dist-packages/sklearn/metrics/_classification.py:1565: UndefinedMetricWarning: Precision is ill-defined and being set to 0.0 in labels with no predicted samples. Use `zero_division` parameter to control this behavior.\n",
            "  _warn_prf(average, modifier, f\"{metric.capitalize()} is\", len(result))\n",
            "/usr/local/lib/python3.11/dist-packages/sklearn/metrics/_classification.py:1565: UndefinedMetricWarning: Precision is ill-defined and being set to 0.0 in labels with no predicted samples. Use `zero_division` parameter to control this behavior.\n",
            "  _warn_prf(average, modifier, f\"{metric.capitalize()} is\", len(result))\n",
            "/usr/local/lib/python3.11/dist-packages/sklearn/metrics/_classification.py:1565: UndefinedMetricWarning: Precision is ill-defined and being set to 0.0 in labels with no predicted samples. Use `zero_division` parameter to control this behavior.\n",
            "  _warn_prf(average, modifier, f\"{metric.capitalize()} is\", len(result))\n"
          ]
        }
      ]
    },
    {
      "cell_type": "code",
      "source": [
        "#Feature Importance\n",
        "feature_importances = pd.Series(clf.feature_importances_, index=features)\n",
        "feature_importances.sort_values().plot(kind='barh')\n",
        "plt.title(\"Feature Importance\")\n",
        "plt.show()\n"
      ],
      "metadata": {
        "colab": {
          "base_uri": "https://localhost:8080/",
          "height": 452
        },
        "id": "AzLKEXFdag9s",
        "outputId": "bcf96638-ec4e-4783-b21a-49955dbdee61"
      },
      "execution_count": null,
      "outputs": [
        {
          "output_type": "display_data",
          "data": {
            "text/plain": [
              "<Figure size 640x480 with 1 Axes>"
            ],
            "image/png": "[encoded data removed]"
          },
          "metadata": {}
        }
      ]
    }
  ]
}